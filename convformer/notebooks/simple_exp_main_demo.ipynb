{
 "cells": [
  {
   "cell_type": "code",
   "execution_count": null,
   "id": "bead170f",
   "metadata": {},
   "outputs": [],
   "source": [
    "import os\n",
    "# import argparse\n",
    "# import torch\n",
    "\n",
    "# Make sure the repo root (containing data_provider, exp, models, utils) is in PYTHONPATH,\n",
    "# or adjust the path below if needed:\n",
    "import sys\n",
    "sys.path.append(os.getcwd())  # Adjust if your working directory is not the repo root\n",
    "\n",
    "# Import the experiment class\n",
    "from exp.exp_main import Exp_Main\n"
   ]
  },
  {
   "cell_type": "code",
   "execution_count": null,
   "id": "73b98048",
   "metadata": {},
   "outputs": [],
   "source": [
    "# Define a simple argument namespace (similar to argparse.Namespace)\n",
    "class Args:\n",
    "    def __init__(self):\n",
    "        # Model selection: choose one of ['Autoformer', 'Informer', 'Transformer', 'Reformer']\n",
    "        self.model = 'Informer'\n",
    "\n",
    "        # Device settings\n",
    "        self.use_gpu = True  # Set to True if CUDA is available and you want to use GPU\n",
    "        self.device_ids = [0]  # If using multiple GPUs\n",
    "\n",
    "        # Data settings (ensure these paths match your dataset locations)\n",
    "        self.root_path = '../data/raw/ETT-small/'          # Root directory for dataset\n",
    "        self.data_path = 'ETTh1.csv'        # Example CSV file\n",
    "        self.features = 'M'                 # 'M' for multivariate input, 'S' for single\n",
    "        self.target = 'OT'                  # Column name to predict\n",
    "        self.freq = 'h'                     # Time frequency of your data (e.g., 'h' for hourly)\n",
    "        self.checkpoints = '../checkpoints/' # Directory to save checkpoints\n",
    "\n",
    "        # Sequence lengths\n",
    "        self.seq_len = 24     # Input sequence length\n",
    "        self.label_len = 12   # Length for the decoder input\n",
    "        self.pred_len = 12    # Prediction horizon\n",
    "\n",
    "        # Model hyperparameters (basic defaults)\n",
    "        self.enc_in = 7       # Number of input features\n",
    "        self.dec_in = 7       # Number of features fed to decoder\n",
    "        self.c_out = 1        # Number of output features\n",
    "        self.d_model = 512    # Dimension of model\n",
    "        self.n_heads = 8      # Number of attention heads\n",
    "        self.e_layers = 2     # Number of encoder layers\n",
    "        self.d_layers = 1     # Number of decoder layers\n",
    "        self.d_ff = 2048      # Dimension of feed-forward network\n",
    "        self.moving_avg = 25  # Window size for moving average decomposition\n",
    "        self.factor = 1       # Attention factor for ProbSparse\n",
    "        self.distil = True    # Use distillation in encoder (True/False)\n",
    "        self.drop_out = 0.05  # Dropout probability\n",
    "        self.embed = 'timeF'  # Time feature embedding method\n",
    "        self.activation = 'gelu'  # Activation function\n",
    "        self.output_attention = False  # Whether to output attention weights\n",
    "\n",
    "        # Optimization settings\n",
    "        self.loss = 'mse'     # Loss type (e.g., 'mse')\n",
    "        self.lradj = 'type1'  # Learning rate adjustment type\n",
    "        self.learning_rate = 0.0001\n",
    "        self.batch_size = 32\n",
    "        self.train_epochs = 3  # For demo, keep epochs small\n",
    "        self.patience = 2      # Early stopping patience\n",
    "        self.num_workers = 8   # For simplicity in notebook (no parallel data loading)\n",
    "\n",
    "        # Mixed precision and multi-GPU (for simplicity, keep disabled)\n",
    "        self.use_amp = False\n",
    "        self.use_multi_gpu = False\n",
    "\n",
    "        # Experiment description\n",
    "        self.des = 'simple_demo'\n",
    "\n",
    "        # Token for prediction-only mode (unused here)\n",
    "        self.do_predict = False\n",
    "\n",
    "# Instantiate args\n",
    "args = Args()\n",
    "print(args)\n"
   ]
  },
  {
   "cell_type": "code",
   "execution_count": null,
   "id": "cbb18d4f",
   "metadata": {},
   "outputs": [],
   "source": [
    "# Create an experiment instance\n",
    "exp = Exp_Main(args)\n",
    "\n",
    "# Define a simple setting name (used for saving checkpoints/results)\n",
    "setting = 'demo_test'\n",
    "\n",
    "# Run training (will train for args.train_epochs epochs)\n",
    "print('Starting training...')\n",
    "exp.train(setting)\n",
    "print('Training completed.')\n"
   ]
  },
  {
   "cell_type": "code",
   "execution_count": null,
   "id": "dc83ed23",
   "metadata": {},
   "outputs": [],
   "source": [
    "# Run testing to evaluate on the test set (loads the best checkpoint)\n",
    "print('Starting testing...')\n",
    "exp.test(setting, test=1)\n",
    "print('Testing completed.')\n"
   ]
  },
  {
   "cell_type": "markdown",
   "id": "6086756a",
   "metadata": {},
   "source": [
    "## Prediction on New Data\n",
    "If you have a separate `pred` split configured, you can run:\n",
    "```python\n",
    "exp.predict(setting, load=True)\n",
    "```"
   ]
  }
 ],
 "metadata": {
  "kernelspec": {
   "display_name": "science-venv",
   "language": "python",
   "name": "python3"
  },
  "language_info": {
   "codemirror_mode": {
    "name": "ipython",
    "version": 3
   },
   "file_extension": ".py",
   "mimetype": "text/x-python",
   "name": "python",
   "nbconvert_exporter": "python",
   "pygments_lexer": "ipython3",
   "version": "3.13.2"
  }
 },
 "nbformat": 4,
 "nbformat_minor": 5
}
