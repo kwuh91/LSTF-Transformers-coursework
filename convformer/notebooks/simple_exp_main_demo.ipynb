{
 "cells": [
  {
   "cell_type": "code",
   "execution_count": 76,
   "id": "a7cd4368",
   "metadata": {},
   "outputs": [
    {
     "name": "stdout",
     "output_type": "stream",
     "text": [
      "/home/nikita91/Documents/VScodeProjects/RNN-TimeSeries-coursework/convformer\n"
     ]
    }
   ],
   "source": [
    "%cd /home/nikita91/Documents/VScodeProjects/RNN-TimeSeries-coursework/convformer"
   ]
  },
  {
   "cell_type": "code",
   "execution_count": 77,
   "id": "bead170f",
   "metadata": {},
   "outputs": [],
   "source": [
    "import os\n",
    "# import argparse\n",
    "import torch\n",
    "\n",
    "# Make sure the repo root (containing data_provider, exp, models, utils) is in PYTHONPATH,\n",
    "# or adjust the path below if needed:\n",
    "import sys\n",
    "sys.path.append(os.getcwd())  # Adjust if your working directory is not the repo root\n",
    "\n",
    "# Import the experiment class\n",
    "from exp.exp_main import Exp_Main\n"
   ]
  },
  {
   "cell_type": "code",
   "execution_count": 78,
   "id": "73b98048",
   "metadata": {},
   "outputs": [
    {
     "name": "stdout",
     "output_type": "stream",
     "text": [
      "cuda is available: True\n",
      "cuda is being used: True\n"
     ]
    }
   ],
   "source": [
    "# Define a simple argument namespace (similar to argparse.Namespace)\n",
    "class Args:\n",
    "    def __init__(self):\n",
    "        # Model selection: choose one of ['Autoformer', 'Informer', 'Transformer', 'Reformer']\n",
    "        self.model = 'Informer'\n",
    "\n",
    "        # Device settings\n",
    "        self.use_gpu = True  # Set to True if CUDA is available and you want to use GPU\n",
    "        self.gpu = 0\n",
    "        self.devices = '0,1,2,3'\n",
    "        self.use_multi_gpu = False\n",
    "\n",
    "        # Data settings (ensure these paths match your dataset locations)\n",
    "        self.root_path = './data/raw/ETT-small/'          # Root directory for dataset\n",
    "        self.data = 'ETTh1'                 # dataset type\n",
    "        self.data_path = 'ETTh1.csv'        # Example CSV file\n",
    "        self.features = 'M'                 # 'M' for multivariate input, 'S' for single\n",
    "        self.target = 'OT'                  # Column name to predict\n",
    "        self.freq = 'h'                     # Time frequency of your data (e.g., 'h' for hourly)\n",
    "        self.checkpoints = './checkpoints/' # Directory to save checkpoints\n",
    "\n",
    "        # Sequence lengths\n",
    "        self.seq_len = 96     # Input sequence length\n",
    "        self.label_len = 48   # Length for the decoder input\n",
    "        self.pred_len = 48    # Prediction horizon\n",
    "\n",
    "        # Model hyperparameters (basic defaults)\n",
    "        self.enc_in = 7       # Number of input features\n",
    "        self.dec_in = 7       # Number of features fed to decoder\n",
    "        self.c_out = 7        # Number of output features ???\n",
    "        self.d_model = 512    # Dimension of model\n",
    "        self.n_heads = 8      # Number of attention heads\n",
    "        self.e_layers = 2     # Number of encoder layers\n",
    "        self.d_layers = 1     # Number of decoder layers\n",
    "        self.d_ff = 2048      # Dimension of feed-forward network\n",
    "        self.moving_avg = 25  # Window size for moving average decomposition\n",
    "        self.factor = 3       # Attention factor for ProbSparse\n",
    "        # self.factor = 5       # Attention factor for ProbSparse\n",
    "        self.distil = True    # Use distillation in encoder (True/False)\n",
    "        self.dropout = 0.05  # Dropout probability\n",
    "        self.embed = 'timeF'  # Time feature embedding method\n",
    "        self.activation = 'gelu'  # Activation function\n",
    "        self.output_attention = False  # Whether to output attention weights\n",
    "\n",
    "        # Optimization settings\n",
    "        self.loss = 'mse'     # Loss type (e.g., 'mse')\n",
    "        self.lradj = 'type1'  # Learning rate adjustment type\n",
    "        self.learning_rate = 0.0001\n",
    "        self.batch_size = 32\n",
    "        self.train_epochs = 10  # For demo, keep epochs small\n",
    "        self.patience = 3      # Early stopping patience\n",
    "        self.num_workers = 10   # Parallel data loading\n",
    "\n",
    "        # Mixed precision and multi-GPU (for simplicity, keep disabled)\n",
    "        self.use_amp = False\n",
    "\n",
    "        # Experiment description\n",
    "        self.des = 'simple_demo'\n",
    "\n",
    "        # Token for prediction-only mode (unused here)\n",
    "        self.do_predict = False\n",
    "\n",
    "    def __str__(self):\n",
    "        lines = []\n",
    "        for name, val in sorted(self.__dict__.items()):\n",
    "            lines.append(f\"{name:15s}: {val}\")\n",
    "        return \"\\n\".join(lines)\n",
    "\n",
    "# Instantiate args\n",
    "args = Args()\n",
    "print(f'cuda is available: {torch.cuda.is_available()}')\n",
    "args.use_gpu = True if torch.cuda.is_available() and args.use_gpu else False\n",
    "\n",
    "if args.use_gpu and args.use_multi_gpu:\n",
    "    args.devices = args.devices.replace(' ', '')\n",
    "    device_ids = args.devices.split(',')\n",
    "    args.device_ids = [int(id_) for id_ in device_ids]\n",
    "    args.gpu = args.device_ids[0]\n",
    "\n",
    "print(f'cuda is being used: {args.use_gpu}')\n",
    "\n",
    "# print(args)\n"
   ]
  },
  {
   "cell_type": "code",
   "execution_count": 79,
   "id": "cbb18d4f",
   "metadata": {},
   "outputs": [
    {
     "name": "stdout",
     "output_type": "stream",
     "text": [
      "Use GPU: cuda:0\n",
      "Starting training...\n",
      "train 8497\n",
      "val 2833\n",
      "test 2833\n",
      "\titers: 100, epoch: 1 | loss: 0.4592566\n",
      "\tspeed: 0.0887s/iter; left time: 226.1979s\n",
      "\titers: 200, epoch: 1 | loss: 0.3673691\n",
      "\tspeed: 0.0862s/iter; left time: 211.2752s\n",
      "Epoch: 1 cost time: 23.194034576416016\n",
      "Epoch: 1, Steps: 265 | Train Loss: 0.4234568 Vali Loss: 0.7714586 Test Loss: 0.5975754\n",
      "Validation loss decreased (inf --> 0.771459).  Saving model ...\n",
      "Updating learning rate to 0.0001\n",
      "\titers: 100, epoch: 2 | loss: 0.3109574\n",
      "\tspeed: 0.2040s/iter; left time: 466.3592s\n",
      "\titers: 200, epoch: 2 | loss: 0.2606356\n",
      "\tspeed: 0.0864s/iter; left time: 188.9185s\n",
      "Epoch: 2 cost time: 23.22842812538147\n",
      "Epoch: 2, Steps: 265 | Train Loss: 0.2888134 Vali Loss: 0.7752330 Test Loss: 0.5804874\n",
      "EarlyStopping counter: 1 out of 3\n",
      "Updating learning rate to 5e-05\n",
      "\titers: 100, epoch: 3 | loss: 0.2595224\n",
      "\tspeed: 0.2041s/iter; left time: 412.4726s\n",
      "\titers: 200, epoch: 3 | loss: 0.2397701\n",
      "\tspeed: 0.0871s/iter; left time: 167.3098s\n",
      "Epoch: 3 cost time: 23.350207805633545\n",
      "Epoch: 3, Steps: 265 | Train Loss: 0.2334459 Vali Loss: 0.7784516 Test Loss: 0.6843602\n",
      "EarlyStopping counter: 2 out of 3\n",
      "Updating learning rate to 2.5e-05\n",
      "\titers: 100, epoch: 4 | loss: 0.1976501\n",
      "\tspeed: 0.2056s/iter; left time: 360.9880s\n",
      "\titers: 200, epoch: 4 | loss: 0.1908839\n",
      "\tspeed: 0.0872s/iter; left time: 144.4593s\n",
      "Epoch: 4 cost time: 23.406464338302612\n",
      "Epoch: 4, Steps: 265 | Train Loss: 0.2061645 Vali Loss: 0.7749079 Test Loss: 0.6873495\n",
      "EarlyStopping counter: 3 out of 3\n",
      "Early stopping\n",
      "Training completed.\n"
     ]
    }
   ],
   "source": [
    "# Create an experiment instance\n",
    "exp = Exp_Main(args)\n",
    "\n",
    "# Define a simple setting name (used for saving checkpoints/results)\n",
    "setting = 'informer_48_default'\n",
    "\n",
    "# Run training (will train for args.train_epochs epochs)\n",
    "print('Starting training...')\n",
    "exp.train(setting)\n",
    "print('Training completed.')\n"
   ]
  },
  {
   "cell_type": "code",
   "execution_count": 80,
   "id": "dc83ed23",
   "metadata": {},
   "outputs": [
    {
     "name": "stdout",
     "output_type": "stream",
     "text": [
      "Starting testing...\n",
      "test 2833\n",
      "loading model\n",
      "test shape: (2833, 48, 7) (2833, 48, 7)\n",
      "test shape: (2833, 48, 7) (2833, 48, 7)\n",
      "mse:0.5975908041000366, mae:0.572128415107727\n",
      "Testing completed.\n"
     ]
    }
   ],
   "source": [
    "# Run testing to evaluate on the test set (loads the best checkpoint)\n",
    "print('Starting testing...')\n",
    "exp.test(setting, test=1)\n",
    "print('Testing completed.')\n"
   ]
  },
  {
   "cell_type": "markdown",
   "id": "6086756a",
   "metadata": {},
   "source": [
    "## Prediction on New Data\n",
    "If you have a separate `pred` split configured, you can run:\n",
    "```python\n",
    "exp.predict(setting, load=True)\n",
    "```"
   ]
  }
 ],
 "metadata": {
  "kernelspec": {
   "display_name": "science-venv",
   "language": "python",
   "name": "python3"
  },
  "language_info": {
   "codemirror_mode": {
    "name": "ipython",
    "version": 3
   },
   "file_extension": ".py",
   "mimetype": "text/x-python",
   "name": "python",
   "nbconvert_exporter": "python",
   "pygments_lexer": "ipython3",
   "version": "3.13.2"
  }
 },
 "nbformat": 4,
 "nbformat_minor": 5
}
